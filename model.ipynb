{
 "cells": [
  {
   "cell_type": "markdown",
   "id": "d01458d2",
   "metadata": {},
   "source": [
    "### Loading the dataset\n",
    "\n",
    "Dataset used: Enron-Spam dataset\n",
    "\n",
    "https://www.kaggle.com/datasets/wanderfj/enron-spam"
   ]
  },
  {
   "cell_type": "code",
   "execution_count": 63,
   "id": "67770d62",
   "metadata": {},
   "outputs": [],
   "source": [
    "import os\n",
    "from glob import glob"
   ]
  },
  {
   "cell_type": "code",
   "execution_count": 5,
   "id": "daf0de3c",
   "metadata": {},
   "outputs": [],
   "source": [
    "def read_text_files(paths, classification):\n",
    "    data = {\n",
    "        'email': [],\n",
    "        'class': []\n",
    "    }\n",
    "    for path in paths:\n",
    "        try:\n",
    "            with open(path, 'r', encoding='utf-8') as f:\n",
    "                message = ' '.join(f.readlines())\n",
    "                data['email'].append(message)\n",
    "                data['class'].append(classification)\n",
    "        except:\n",
    "            continue\n",
    "    return data"
   ]
  },
  {
   "cell_type": "markdown",
   "id": "575af253",
   "metadata": {},
   "source": [
    "#### Spam"
   ]
  },
  {
   "cell_type": "code",
   "execution_count": 6,
   "id": "06ca93d8",
   "metadata": {},
   "outputs": [],
   "source": [
    "path = \"static/dataset/spam/\"\n",
    "spamEmails = glob(os.path.join(path, '*.txt'))\n",
    "\n",
    "spam = read_text_files(spamEmails, 'spam')"
   ]
  },
  {
   "cell_type": "markdown",
   "id": "32de55df",
   "metadata": {},
   "source": [
    "#### Not spam (ham)"
   ]
  },
  {
   "cell_type": "code",
   "execution_count": 7,
   "id": "ac38fb56",
   "metadata": {},
   "outputs": [],
   "source": [
    "path = \"static/dataset/ham/\"\n",
    "nonSpamEmails = glob(os.path.join(path, '*.txt'))\n",
    "\n",
    "nonSpam = read_text_files(nonSpamEmails, 'ham')"
   ]
  },
  {
   "cell_type": "markdown",
   "id": "6e33208f",
   "metadata": {},
   "source": [
    "### Creating the dataframe"
   ]
  },
  {
   "cell_type": "code",
   "execution_count": 8,
   "id": "a566d464",
   "metadata": {},
   "outputs": [],
   "source": [
    "import pandas as pd"
   ]
  },
  {
   "cell_type": "code",
   "execution_count": 9,
   "id": "2e3b55ca",
   "metadata": {},
   "outputs": [],
   "source": [
    "dfSpam = pd.DataFrame.from_dict(spam)"
   ]
  },
  {
   "cell_type": "code",
   "execution_count": 10,
   "id": "2fa0c064",
   "metadata": {},
   "outputs": [],
   "source": [
    "dfNonSpam = pd.DataFrame.from_dict(nonSpam)"
   ]
  },
  {
   "cell_type": "code",
   "execution_count": 11,
   "id": "b86e669c",
   "metadata": {},
   "outputs": [],
   "source": [
    "df = pd.concat([dfSpam, dfNonSpam])"
   ]
  },
  {
   "cell_type": "code",
   "execution_count": 45,
   "id": "f39b5815",
   "metadata": {},
   "outputs": [],
   "source": [
    "df = df.reset_index()"
   ]
  },
  {
   "cell_type": "code",
   "execution_count": 46,
   "id": "180973ac",
   "metadata": {},
   "outputs": [
    {
     "data": {
      "text/html": [
       "<div>\n",
       "<style scoped>\n",
       "    .dataframe tbody tr th:only-of-type {\n",
       "        vertical-align: middle;\n",
       "    }\n",
       "\n",
       "    .dataframe tbody tr th {\n",
       "        vertical-align: top;\n",
       "    }\n",
       "\n",
       "    .dataframe thead th {\n",
       "        text-align: right;\n",
       "    }\n",
       "</style>\n",
       "<table border=\"1\" class=\"dataframe\">\n",
       "  <thead>\n",
       "    <tr style=\"text-align: right;\">\n",
       "      <th></th>\n",
       "      <th>index</th>\n",
       "      <th>email</th>\n",
       "      <th>class</th>\n",
       "    </tr>\n",
       "  </thead>\n",
       "  <tbody>\n",
       "    <tr>\n",
       "      <th>0</th>\n",
       "      <td>0</td>\n",
       "      <td>Subject: adv : space saving computer to replac...</td>\n",
       "      <td>spam</td>\n",
       "    </tr>\n",
       "    <tr>\n",
       "      <th>1</th>\n",
       "      <td>1</td>\n",
       "      <td>Subject: advs\\n greetings ,\\n i am benedicta l...</td>\n",
       "      <td>spam</td>\n",
       "    </tr>\n",
       "    <tr>\n",
       "      <th>2</th>\n",
       "      <td>2</td>\n",
       "      <td>Subject: fw : account over due wfxu ppmfztdtet...</td>\n",
       "      <td>spam</td>\n",
       "    </tr>\n",
       "    <tr>\n",
       "      <th>3</th>\n",
       "      <td>3</td>\n",
       "      <td>Subject: spend too much on your phone bill ? 2...</td>\n",
       "      <td>spam</td>\n",
       "    </tr>\n",
       "    <tr>\n",
       "      <th>4</th>\n",
       "      <td>4</td>\n",
       "      <td>Subject: \\n h $ ello\\n dea 54 r home owner ,\\n...</td>\n",
       "      <td>spam</td>\n",
       "    </tr>\n",
       "  </tbody>\n",
       "</table>\n",
       "</div>"
      ],
      "text/plain": [
       "   index                                              email class\n",
       "0      0  Subject: adv : space saving computer to replac...  spam\n",
       "1      1  Subject: advs\\n greetings ,\\n i am benedicta l...  spam\n",
       "2      2  Subject: fw : account over due wfxu ppmfztdtet...  spam\n",
       "3      3  Subject: spend too much on your phone bill ? 2...  spam\n",
       "4      4  Subject: \\n h $ ello\\n dea 54 r home owner ,\\n...  spam"
      ]
     },
     "execution_count": 46,
     "metadata": {},
     "output_type": "execute_result"
    }
   ],
   "source": [
    "df.head()"
   ]
  },
  {
   "cell_type": "code",
   "execution_count": 47,
   "id": "5a2ed236",
   "metadata": {},
   "outputs": [
    {
     "data": {
      "text/html": [
       "<div>\n",
       "<style scoped>\n",
       "    .dataframe tbody tr th:only-of-type {\n",
       "        vertical-align: middle;\n",
       "    }\n",
       "\n",
       "    .dataframe tbody tr th {\n",
       "        vertical-align: top;\n",
       "    }\n",
       "\n",
       "    .dataframe thead th {\n",
       "        text-align: right;\n",
       "    }\n",
       "</style>\n",
       "<table border=\"1\" class=\"dataframe\">\n",
       "  <thead>\n",
       "    <tr style=\"text-align: right;\">\n",
       "      <th></th>\n",
       "      <th>index</th>\n",
       "      <th>email</th>\n",
       "      <th>class</th>\n",
       "    </tr>\n",
       "  </thead>\n",
       "  <tbody>\n",
       "    <tr>\n",
       "      <th>32619</th>\n",
       "      <td>16539</td>\n",
       "      <td>Subject: fw : abandoned pipe ownership\\n fyi ,...</td>\n",
       "      <td>ham</td>\n",
       "    </tr>\n",
       "    <tr>\n",
       "      <th>32620</th>\n",
       "      <td>16540</td>\n",
       "      <td>Subject: start date : 2 / 7 / 02 ; hourahead h...</td>\n",
       "      <td>ham</td>\n",
       "    </tr>\n",
       "    <tr>\n",
       "      <th>32621</th>\n",
       "      <td>16541</td>\n",
       "      <td>Subject: fw : tw question in amarillo\\n fyi , ...</td>\n",
       "      <td>ham</td>\n",
       "    </tr>\n",
       "    <tr>\n",
       "      <th>32622</th>\n",
       "      <td>16542</td>\n",
       "      <td>Subject: start date : 2 / 6 / 02 ; hourahead h...</td>\n",
       "      <td>ham</td>\n",
       "    </tr>\n",
       "    <tr>\n",
       "      <th>32623</th>\n",
       "      <td>16543</td>\n",
       "      <td>Subject: fw : re ivanhoe e . s . d\\n fyi , kim...</td>\n",
       "      <td>ham</td>\n",
       "    </tr>\n",
       "  </tbody>\n",
       "</table>\n",
       "</div>"
      ],
      "text/plain": [
       "       index                                              email class\n",
       "32619  16539  Subject: fw : abandoned pipe ownership\\n fyi ,...   ham\n",
       "32620  16540  Subject: start date : 2 / 7 / 02 ; hourahead h...   ham\n",
       "32621  16541  Subject: fw : tw question in amarillo\\n fyi , ...   ham\n",
       "32622  16542  Subject: start date : 2 / 6 / 02 ; hourahead h...   ham\n",
       "32623  16543  Subject: fw : re ivanhoe e . s . d\\n fyi , kim...   ham"
      ]
     },
     "execution_count": 47,
     "metadata": {},
     "output_type": "execute_result"
    }
   ],
   "source": [
    "df.tail()"
   ]
  },
  {
   "cell_type": "code",
   "execution_count": 48,
   "id": "038c2f1e",
   "metadata": {},
   "outputs": [
    {
     "data": {
      "text/plain": [
       "(32624, 3)"
      ]
     },
     "execution_count": 48,
     "metadata": {},
     "output_type": "execute_result"
    }
   ],
   "source": [
    "df.shape"
   ]
  },
  {
   "cell_type": "markdown",
   "id": "521aa9d3",
   "metadata": {},
   "source": [
    "### Data Pre-Processing\n",
    "\n",
    "1. Word tokenization\n",
    "2. Removing punctuations\n",
    "3. Removing URLs\n",
    "4. Removing stop-words\n",
    "5. lower casing\n",
    "6. Stemming or lematization\n",
    "7. Vectorization"
   ]
  },
  {
   "cell_type": "code",
   "execution_count": 58,
   "id": "cb2fb83a",
   "metadata": {},
   "outputs": [],
   "source": [
    "email_example = df['email'][0]"
   ]
  },
  {
   "cell_type": "code",
   "execution_count": 55,
   "id": "ecf856c5",
   "metadata": {},
   "outputs": [
    {
     "name": "stdout",
     "output_type": "stream",
     "text": [
      "Subject: adv : space saving computer to replace that big box on or under your desk ! !\n",
      " revolutionary ! ! ! full featured ! ! !\n",
      " space saving computer in a\n",
      " keyboard\n",
      " eliminate\n",
      " that big box computer forever !\n",
      " great\n",
      " forhome . . . . office . . . or students . . . any place where desk space is at a\n",
      " premium !\n",
      " the\n",
      " computer in a\n",
      " keyboard eliminates the tower that takes up valuable space on\n",
      " or under your desk . a full featured , powerful computer for the price you would\n",
      " pay for a large tower . comes standard with : 1 . 8 ghz intelt pentium 4\n",
      " processor ( upgradeable ) 40 gigabyte hard drive\n",
      " ( upgradeable ) 256 mb ramupgradeable to 2 gb cd - rw dvd combo drive\n",
      " 64 bit hardware accelerated 3 d graphics soundmax integrated digital audio\n",
      " internal 56 k fax - modem serial , parallel , audio , 4 usb ports ( 2 side , and 2\n",
      " back ) 2 button ps / 2 scroll mouse microsoft xp home\n",
      " edition and a 15 \" lcd flat screen\n",
      " monitor ( upgradeable )\n",
      " isalso included in the base configuration !\n",
      " click\n",
      " below for more information :\n",
      " http : / / www . . com /\n",
      " if\n",
      " you wish to stop receiving this email , click on the link below .\n",
      "\n"
     ]
    }
   ],
   "source": [
    "print(email_example)"
   ]
  },
  {
   "cell_type": "markdown",
   "id": "e1ce9086",
   "metadata": {},
   "source": [
    "### Step 1: Word Tokenization"
   ]
  },
  {
   "cell_type": "code",
   "execution_count": null,
   "id": "5ad6aa93",
   "metadata": {},
   "outputs": [],
   "source": [
    "from nltk.tokenize import word_tokenize\n",
    "\n",
    "nltk.download('wordnet')"
   ]
  },
  {
   "cell_type": "code",
   "execution_count": 100,
   "id": "a3931985",
   "metadata": {},
   "outputs": [],
   "source": [
    "email_cleaned_1 = word_tokenize(example_email)"
   ]
  },
  {
   "cell_type": "code",
   "execution_count": 101,
   "id": "66a248cd",
   "metadata": {},
   "outputs": [
    {
     "data": {
      "text/plain": [
       "['Subject',\n",
       " ':',\n",
       " 'adv',\n",
       " ':',\n",
       " 'space',\n",
       " 'saving',\n",
       " 'computer',\n",
       " 'to',\n",
       " 'replace',\n",
       " 'that',\n",
       " 'big',\n",
       " 'box',\n",
       " 'on',\n",
       " 'or',\n",
       " 'under',\n",
       " 'your',\n",
       " 'desk',\n",
       " '!',\n",
       " '!',\n",
       " 'revolutionary',\n",
       " '!',\n",
       " '!',\n",
       " '!',\n",
       " 'full',\n",
       " 'featured',\n",
       " '!',\n",
       " '!',\n",
       " '!',\n",
       " 'space',\n",
       " 'saving',\n",
       " 'computer',\n",
       " 'in',\n",
       " 'a',\n",
       " 'keyboard',\n",
       " 'eliminate',\n",
       " 'that',\n",
       " 'big',\n",
       " 'box',\n",
       " 'computer',\n",
       " 'forever',\n",
       " '!',\n",
       " 'great',\n",
       " 'forhome',\n",
       " '.',\n",
       " '.',\n",
       " '.',\n",
       " '.',\n",
       " 'office',\n",
       " '.',\n",
       " '.',\n",
       " '.',\n",
       " 'or',\n",
       " 'students',\n",
       " '.',\n",
       " '.',\n",
       " '.',\n",
       " 'any',\n",
       " 'place',\n",
       " 'where',\n",
       " 'desk',\n",
       " 'space',\n",
       " 'is',\n",
       " 'at',\n",
       " 'a',\n",
       " 'premium',\n",
       " '!',\n",
       " 'the',\n",
       " 'computer',\n",
       " 'in',\n",
       " 'a',\n",
       " 'keyboard',\n",
       " 'eliminates',\n",
       " 'the',\n",
       " 'tower',\n",
       " 'that',\n",
       " 'takes',\n",
       " 'up',\n",
       " 'valuable',\n",
       " 'space',\n",
       " 'on',\n",
       " 'or',\n",
       " 'under',\n",
       " 'your',\n",
       " 'desk',\n",
       " '.',\n",
       " 'a',\n",
       " 'full',\n",
       " 'featured',\n",
       " ',',\n",
       " 'powerful',\n",
       " 'computer',\n",
       " 'for',\n",
       " 'the',\n",
       " 'price',\n",
       " 'you',\n",
       " 'would',\n",
       " 'pay',\n",
       " 'for',\n",
       " 'a',\n",
       " 'large',\n",
       " 'tower',\n",
       " '.',\n",
       " 'comes',\n",
       " 'standard',\n",
       " 'with',\n",
       " ':',\n",
       " '1',\n",
       " '.',\n",
       " '8',\n",
       " 'ghz',\n",
       " 'intelt',\n",
       " 'pentium',\n",
       " '4',\n",
       " 'processor',\n",
       " '(',\n",
       " 'upgradeable',\n",
       " ')',\n",
       " '40',\n",
       " 'gigabyte',\n",
       " 'hard',\n",
       " 'drive',\n",
       " '(',\n",
       " 'upgradeable',\n",
       " ')',\n",
       " '256',\n",
       " 'mb',\n",
       " 'ramupgradeable',\n",
       " 'to',\n",
       " '2',\n",
       " 'gb',\n",
       " 'cd',\n",
       " '-',\n",
       " 'rw',\n",
       " 'dvd',\n",
       " 'combo',\n",
       " 'drive',\n",
       " '64',\n",
       " 'bit',\n",
       " 'hardware',\n",
       " 'accelerated',\n",
       " '3',\n",
       " 'd',\n",
       " 'graphics',\n",
       " 'soundmax',\n",
       " 'integrated',\n",
       " 'digital',\n",
       " 'audio',\n",
       " 'internal',\n",
       " '56',\n",
       " 'k',\n",
       " 'fax',\n",
       " '-',\n",
       " 'modem',\n",
       " 'serial',\n",
       " ',',\n",
       " 'parallel',\n",
       " ',',\n",
       " 'audio',\n",
       " ',',\n",
       " '4',\n",
       " 'usb',\n",
       " 'ports',\n",
       " '(',\n",
       " '2',\n",
       " 'side',\n",
       " ',',\n",
       " 'and',\n",
       " '2',\n",
       " 'back',\n",
       " ')',\n",
       " '2',\n",
       " 'button',\n",
       " 'ps',\n",
       " '/',\n",
       " '2',\n",
       " 'scroll',\n",
       " 'mouse',\n",
       " 'microsoft',\n",
       " 'xp',\n",
       " 'home',\n",
       " 'edition',\n",
       " 'and',\n",
       " 'a',\n",
       " '15',\n",
       " '``',\n",
       " 'lcd',\n",
       " 'flat',\n",
       " 'screen',\n",
       " 'monitor',\n",
       " '(',\n",
       " 'upgradeable',\n",
       " ')',\n",
       " 'isalso',\n",
       " 'included',\n",
       " 'in',\n",
       " 'the',\n",
       " 'base',\n",
       " 'configuration',\n",
       " '!',\n",
       " 'click',\n",
       " 'below',\n",
       " 'for',\n",
       " 'more',\n",
       " 'information',\n",
       " ':',\n",
       " 'http',\n",
       " ':',\n",
       " '/',\n",
       " '/',\n",
       " 'www',\n",
       " '.',\n",
       " '.',\n",
       " 'com',\n",
       " '/',\n",
       " 'if',\n",
       " 'you',\n",
       " 'wish',\n",
       " 'to',\n",
       " 'stop',\n",
       " 'receiving',\n",
       " 'this',\n",
       " 'email',\n",
       " ',',\n",
       " 'click',\n",
       " 'on',\n",
       " 'the',\n",
       " 'link',\n",
       " 'below',\n",
       " '.']"
      ]
     },
     "execution_count": 101,
     "metadata": {},
     "output_type": "execute_result"
    }
   ],
   "source": [
    "email_cleaned_1"
   ]
  },
  {
   "cell_type": "markdown",
   "id": "cc3edb9d",
   "metadata": {},
   "source": [
    "### Step 2: Removing anything other than words"
   ]
  },
  {
   "cell_type": "code",
   "execution_count": 102,
   "id": "23ae3652",
   "metadata": {},
   "outputs": [],
   "source": [
    "import re"
   ]
  },
  {
   "cell_type": "code",
   "execution_count": 103,
   "id": "5ca4e55d",
   "metadata": {},
   "outputs": [],
   "source": [
    "# Removing un-needed unicode characters\n",
    "\n",
    "email_cleaned_1 = []\n",
    "for word in email_tokenized:\n",
    "    clean = re.sub(r'[^\\w\\s]', \"\", word)\n",
    "    if clean != \"\":\n",
    "        email_cleaned_1.append(clean)"
   ]
  },
  {
   "cell_type": "code",
   "execution_count": 107,
   "id": "55b63c5a",
   "metadata": {
    "scrolled": true
   },
   "outputs": [
    {
     "data": {
      "text/plain": [
       "['subject',\n",
       " 'adv',\n",
       " 'space',\n",
       " 'saving',\n",
       " 'computer',\n",
       " 'to',\n",
       " 'replace',\n",
       " 'that',\n",
       " 'big',\n",
       " 'box']"
      ]
     },
     "execution_count": 107,
     "metadata": {},
     "output_type": "execute_result"
    }
   ],
   "source": [
    "email_cleaned_2[:10]"
   ]
  },
  {
   "cell_type": "markdown",
   "id": "84c059a4",
   "metadata": {},
   "source": [
    "### Step 3: Removing any URLs"
   ]
  },
  {
   "cell_type": "code",
   "execution_count": 105,
   "id": "71cfe488",
   "metadata": {},
   "outputs": [],
   "source": [
    "email_cleaned_3 = []\n",
    "for word in email_cleaned_2:\n",
    "    x = re.sub(r'http\\S+', '', word)\n",
    "    if x != '':\n",
    "        email_cleaned_3.append(x)"
   ]
  },
  {
   "cell_type": "code",
   "execution_count": 108,
   "id": "fc05b448",
   "metadata": {},
   "outputs": [
    {
     "data": {
      "text/plain": [
       "['subject',\n",
       " 'adv',\n",
       " 'space',\n",
       " 'saving',\n",
       " 'computer',\n",
       " 'to',\n",
       " 'replace',\n",
       " 'that',\n",
       " 'big',\n",
       " 'box']"
      ]
     },
     "execution_count": 108,
     "metadata": {},
     "output_type": "execute_result"
    }
   ],
   "source": [
    "email_cleaned_3[:10]"
   ]
  },
  {
   "cell_type": "markdown",
   "id": "caba9c62",
   "metadata": {},
   "source": [
    "### Step 4: Stop word removal\n",
    "\n",
    "(nltk provides stopwords but you can define yours too or find them from the internet)"
   ]
  },
  {
   "cell_type": "code",
   "execution_count": null,
   "id": "56ba64a1",
   "metadata": {},
   "outputs": [],
   "source": [
    "from nltk.corpus import stopwords\n",
    "\n",
    "nltk.download('stopwords')"
   ]
  },
  {
   "cell_type": "code",
   "execution_count": 109,
   "id": "daac7306",
   "metadata": {},
   "outputs": [],
   "source": [
    "stop_words = stopwords.words('english')"
   ]
  },
  {
   "cell_type": "code",
   "execution_count": 110,
   "id": "58d2adee",
   "metadata": {},
   "outputs": [
    {
     "name": "stdout",
     "output_type": "stream",
     "text": [
      "['i', 'me', 'my', 'myself', 'we', 'our', 'ours', 'ourselves', 'you', \"you're\"]\n"
     ]
    }
   ],
   "source": [
    "print(stop_words[:10])"
   ]
  },
  {
   "cell_type": "code",
   "execution_count": 112,
   "id": "6ba0c5ca",
   "metadata": {},
   "outputs": [],
   "source": [
    "email_cleaned_4 = []\n",
    "for word in email_cleaned_3:\n",
    "    if word not in stop_words:\n",
    "        email_cleaned_4.append(word)"
   ]
  },
  {
   "cell_type": "code",
   "execution_count": 131,
   "id": "2bd30809",
   "metadata": {},
   "outputs": [
    {
     "data": {
      "text/plain": [
       "['subject',\n",
       " 'adv',\n",
       " 'space',\n",
       " 'saving',\n",
       " 'computer',\n",
       " 'replace',\n",
       " 'big',\n",
       " 'box',\n",
       " 'desk',\n",
       " 'revolutionary']"
      ]
     },
     "execution_count": 131,
     "metadata": {},
     "output_type": "execute_result"
    }
   ],
   "source": [
    "email_cleaned_4[:10]"
   ]
  },
  {
   "cell_type": "markdown",
   "id": "4514b89e",
   "metadata": {},
   "source": [
    "### Step 5: Lower casing"
   ]
  },
  {
   "cell_type": "code",
   "execution_count": 113,
   "id": "1013516f",
   "metadata": {},
   "outputs": [],
   "source": [
    "email_cleaned_5 = []\n",
    "for word in email_cleaned_4:\n",
    "    email_cleaned_5.append(word.lower())"
   ]
  },
  {
   "cell_type": "code",
   "execution_count": 114,
   "id": "7faf2312",
   "metadata": {},
   "outputs": [
    {
     "data": {
      "text/plain": [
       "['subject',\n",
       " 'adv',\n",
       " 'space',\n",
       " 'saving',\n",
       " 'computer',\n",
       " 'replace',\n",
       " 'big',\n",
       " 'box',\n",
       " 'desk',\n",
       " 'revolutionary']"
      ]
     },
     "execution_count": 114,
     "metadata": {},
     "output_type": "execute_result"
    }
   ],
   "source": [
    "email_cleaned_5[0:10]"
   ]
  },
  {
   "cell_type": "markdown",
   "id": "9b2ff7b4",
   "metadata": {},
   "source": [
    "### Step 6: Lemmatization"
   ]
  },
  {
   "cell_type": "code",
   "execution_count": 135,
   "id": "3a8c7a90",
   "metadata": {},
   "outputs": [
    {
     "name": "stderr",
     "output_type": "stream",
     "text": [
      "[nltk_data] Downloading package wordnet to\n",
      "[nltk_data]     C:\\Users\\siddh\\AppData\\Roaming\\nltk_data...\n",
      "[nltk_data]   Package wordnet is already up-to-date!\n",
      "[nltk_data] Downloading package omw-1.4 to\n",
      "[nltk_data]     C:\\Users\\siddh\\AppData\\Roaming\\nltk_data...\n",
      "[nltk_data]   Package omw-1.4 is already up-to-date!\n",
      "[nltk_data] Downloading package averaged_perceptron_tagger to\n",
      "[nltk_data]     C:\\Users\\siddh\\AppData\\Roaming\\nltk_data...\n",
      "[nltk_data]   Package averaged_perceptron_tagger is already up-to-\n",
      "[nltk_data]       date!\n"
     ]
    },
    {
     "data": {
      "text/plain": [
       "True"
      ]
     },
     "execution_count": 135,
     "metadata": {},
     "output_type": "execute_result"
    }
   ],
   "source": [
    "from nltk.stem import WordNetLemmatizer\n",
    "from nltk.corpus import wordnet\n",
    "\n",
    "nltk.download('wordnet')\n",
    "nltk.download('omw-1.4')\n",
    "nltk.download('averaged_perceptron_tagger')"
   ]
  },
  {
   "cell_type": "code",
   "execution_count": 136,
   "id": "5ec737d3",
   "metadata": {},
   "outputs": [],
   "source": [
    "def get_wordnet_pos(word):\n",
    "    \"\"\"Map POS tag to first character lemmatize() accepts\"\"\"\n",
    "    tag = nltk.pos_tag([word])[0][1][0].upper()\n",
    "    tag_dict = {\"J\": wordnet.ADJ,\n",
    "                \"N\": wordnet.NOUN,\n",
    "                \"V\": wordnet.VERB,\n",
    "                \"R\": wordnet.ADV}\n",
    "\n",
    "    return tag_dict.get(tag, wordnet.NOUN)"
   ]
  },
  {
   "cell_type": "code",
   "execution_count": 137,
   "id": "4107b8d9",
   "metadata": {},
   "outputs": [],
   "source": [
    "lemmatizer = WordNetLemmatizer()"
   ]
  },
  {
   "cell_type": "code",
   "execution_count": 138,
   "id": "0d3e7dcb",
   "metadata": {},
   "outputs": [],
   "source": [
    "email_cleaned_6 = []\n",
    "for word in email_cleaned_5:\n",
    "    word = lemmatizer.lemmatize(word, get_wordnet_pos(word))\n",
    "    email_cleaned_6.append(word)"
   ]
  },
  {
   "cell_type": "code",
   "execution_count": 141,
   "id": "acfa1f69",
   "metadata": {},
   "outputs": [
    {
     "data": {
      "text/plain": [
       "['subject',\n",
       " 'adv',\n",
       " 'space',\n",
       " 'save',\n",
       " 'computer',\n",
       " 'replace',\n",
       " 'big',\n",
       " 'box',\n",
       " 'desk',\n",
       " 'revolutionary']"
      ]
     },
     "execution_count": 141,
     "metadata": {},
     "output_type": "execute_result"
    }
   ],
   "source": [
    "email_cleaned_6[:10]"
   ]
  },
  {
   "cell_type": "markdown",
   "id": "af8d680b",
   "metadata": {},
   "source": [
    "#### Defining a clean text function for all the emails now"
   ]
  },
  {
   "cell_type": "code",
   "execution_count": 145,
   "id": "9a3b02d1",
   "metadata": {},
   "outputs": [],
   "source": [
    "def clean_text(data):\n",
    "    data_cleaned = []\n",
    "    for email in data:\n",
    "        # tokenization\n",
    "        email = word_tokenize(email)\n",
    "        \n",
    "        # removing unwanted characters like punctuations\n",
    "        email = [re.sub(r'[^\\w\\s]', \"\", word) for word in email if word != '']\n",
    "        \n",
    "        # url removal\n",
    "        email = [re.sub(r'http\\S+', '', word) for word in email if word != '']\n",
    "        \n",
    "        # stop-word removal\n",
    "        email = [word for word in email if (word not in stop_words)]\n",
    "        \n",
    "        # lower-casing\n",
    "        email = [word.lower() for word in email]\n",
    "        \n",
    "        # lemmatization\n",
    "        email = [lemmatizer.lemmatize(word, get_wordnet_pos(word)) for word in email]\n",
    "        \n",
    "        data_cleaned.append(email)\n",
    "    \n",
    "    return data_cleaned"
   ]
  },
  {
   "cell_type": "code",
   "execution_count": 146,
   "id": "96be193f",
   "metadata": {},
   "outputs": [],
   "source": [
    "emails = df['email']"
   ]
  },
  {
   "cell_type": "code",
   "execution_count": 147,
   "id": "ecbb2afa",
   "metadata": {},
   "outputs": [
    {
     "ename": "KeyboardInterrupt",
     "evalue": "",
     "output_type": "error",
     "traceback": [
      "\u001b[1;31m---------------------------------------------------------------------------\u001b[0m",
      "\u001b[1;31mKeyboardInterrupt\u001b[0m                         Traceback (most recent call last)",
      "Input \u001b[1;32mIn [147]\u001b[0m, in \u001b[0;36m<cell line: 1>\u001b[1;34m()\u001b[0m\n\u001b[1;32m----> 1\u001b[0m emails_cleaned \u001b[38;5;241m=\u001b[39m \u001b[43mclean_text\u001b[49m\u001b[43m(\u001b[49m\u001b[43memails\u001b[49m\u001b[43m)\u001b[49m\n",
      "Input \u001b[1;32mIn [145]\u001b[0m, in \u001b[0;36mclean_text\u001b[1;34m(data)\u001b[0m\n\u001b[0;32m     17\u001b[0m     email \u001b[38;5;241m=\u001b[39m [word\u001b[38;5;241m.\u001b[39mlower() \u001b[38;5;28;01mfor\u001b[39;00m word \u001b[38;5;129;01min\u001b[39;00m email]\n\u001b[0;32m     19\u001b[0m     \u001b[38;5;66;03m# lemmatization\u001b[39;00m\n\u001b[1;32m---> 20\u001b[0m     email \u001b[38;5;241m=\u001b[39m [lemmatizer\u001b[38;5;241m.\u001b[39mlemmatize(word, get_wordnet_pos(word)) \u001b[38;5;28;01mfor\u001b[39;00m word \u001b[38;5;129;01min\u001b[39;00m email]\n\u001b[0;32m     22\u001b[0m     data_cleaned\u001b[38;5;241m.\u001b[39mappend(email)\n\u001b[0;32m     24\u001b[0m \u001b[38;5;28;01mreturn\u001b[39;00m data_cleaned\n",
      "Input \u001b[1;32mIn [145]\u001b[0m, in \u001b[0;36m<listcomp>\u001b[1;34m(.0)\u001b[0m\n\u001b[0;32m     17\u001b[0m     email \u001b[38;5;241m=\u001b[39m [word\u001b[38;5;241m.\u001b[39mlower() \u001b[38;5;28;01mfor\u001b[39;00m word \u001b[38;5;129;01min\u001b[39;00m email]\n\u001b[0;32m     19\u001b[0m     \u001b[38;5;66;03m# lemmatization\u001b[39;00m\n\u001b[1;32m---> 20\u001b[0m     email \u001b[38;5;241m=\u001b[39m [lemmatizer\u001b[38;5;241m.\u001b[39mlemmatize(word, \u001b[43mget_wordnet_pos\u001b[49m\u001b[43m(\u001b[49m\u001b[43mword\u001b[49m\u001b[43m)\u001b[49m) \u001b[38;5;28;01mfor\u001b[39;00m word \u001b[38;5;129;01min\u001b[39;00m email]\n\u001b[0;32m     22\u001b[0m     data_cleaned\u001b[38;5;241m.\u001b[39mappend(email)\n\u001b[0;32m     24\u001b[0m \u001b[38;5;28;01mreturn\u001b[39;00m data_cleaned\n",
      "Input \u001b[1;32mIn [136]\u001b[0m, in \u001b[0;36mget_wordnet_pos\u001b[1;34m(word)\u001b[0m\n\u001b[0;32m      1\u001b[0m \u001b[38;5;28;01mdef\u001b[39;00m \u001b[38;5;21mget_wordnet_pos\u001b[39m(word):\n\u001b[0;32m      2\u001b[0m     \u001b[38;5;124;03m\"\"\"Map POS tag to first character lemmatize() accepts\"\"\"\u001b[39;00m\n\u001b[1;32m----> 3\u001b[0m     tag \u001b[38;5;241m=\u001b[39m \u001b[43mnltk\u001b[49m\u001b[38;5;241;43m.\u001b[39;49m\u001b[43mpos_tag\u001b[49m\u001b[43m(\u001b[49m\u001b[43m[\u001b[49m\u001b[43mword\u001b[49m\u001b[43m]\u001b[49m\u001b[43m)\u001b[49m[\u001b[38;5;241m0\u001b[39m][\u001b[38;5;241m1\u001b[39m][\u001b[38;5;241m0\u001b[39m]\u001b[38;5;241m.\u001b[39mupper()\n\u001b[0;32m      4\u001b[0m     tag_dict \u001b[38;5;241m=\u001b[39m {\u001b[38;5;124m\"\u001b[39m\u001b[38;5;124mJ\u001b[39m\u001b[38;5;124m\"\u001b[39m: wordnet\u001b[38;5;241m.\u001b[39mADJ,\n\u001b[0;32m      5\u001b[0m                 \u001b[38;5;124m\"\u001b[39m\u001b[38;5;124mN\u001b[39m\u001b[38;5;124m\"\u001b[39m: wordnet\u001b[38;5;241m.\u001b[39mNOUN,\n\u001b[0;32m      6\u001b[0m                 \u001b[38;5;124m\"\u001b[39m\u001b[38;5;124mV\u001b[39m\u001b[38;5;124m\"\u001b[39m: wordnet\u001b[38;5;241m.\u001b[39mVERB,\n\u001b[0;32m      7\u001b[0m                 \u001b[38;5;124m\"\u001b[39m\u001b[38;5;124mR\u001b[39m\u001b[38;5;124m\"\u001b[39m: wordnet\u001b[38;5;241m.\u001b[39mADV}\n\u001b[0;32m      9\u001b[0m     \u001b[38;5;28;01mreturn\u001b[39;00m tag_dict\u001b[38;5;241m.\u001b[39mget(tag, wordnet\u001b[38;5;241m.\u001b[39mNOUN)\n",
      "File \u001b[1;32mC:\\Projects\\spam-email-detection\\venv-spam-detection\\lib\\site-packages\\nltk\\tag\\__init__.py:165\u001b[0m, in \u001b[0;36mpos_tag\u001b[1;34m(tokens, tagset, lang)\u001b[0m\n\u001b[0;32m    140\u001b[0m \u001b[38;5;28;01mdef\u001b[39;00m \u001b[38;5;21mpos_tag\u001b[39m(tokens, tagset\u001b[38;5;241m=\u001b[39m\u001b[38;5;28;01mNone\u001b[39;00m, lang\u001b[38;5;241m=\u001b[39m\u001b[38;5;124m\"\u001b[39m\u001b[38;5;124meng\u001b[39m\u001b[38;5;124m\"\u001b[39m):\n\u001b[0;32m    141\u001b[0m     \u001b[38;5;124;03m\"\"\"\u001b[39;00m\n\u001b[0;32m    142\u001b[0m \u001b[38;5;124;03m    Use NLTK's currently recommended part of speech tagger to\u001b[39;00m\n\u001b[0;32m    143\u001b[0m \u001b[38;5;124;03m    tag the given list of tokens.\u001b[39;00m\n\u001b[1;32m   (...)\u001b[0m\n\u001b[0;32m    163\u001b[0m \u001b[38;5;124;03m    :rtype: list(tuple(str, str))\u001b[39;00m\n\u001b[0;32m    164\u001b[0m \u001b[38;5;124;03m    \"\"\"\u001b[39;00m\n\u001b[1;32m--> 165\u001b[0m     tagger \u001b[38;5;241m=\u001b[39m \u001b[43m_get_tagger\u001b[49m\u001b[43m(\u001b[49m\u001b[43mlang\u001b[49m\u001b[43m)\u001b[49m\n\u001b[0;32m    166\u001b[0m     \u001b[38;5;28;01mreturn\u001b[39;00m _pos_tag(tokens, tagset, tagger, lang)\n",
      "File \u001b[1;32mC:\\Projects\\spam-email-detection\\venv-spam-detection\\lib\\site-packages\\nltk\\tag\\__init__.py:107\u001b[0m, in \u001b[0;36m_get_tagger\u001b[1;34m(lang)\u001b[0m\n\u001b[0;32m    105\u001b[0m     tagger\u001b[38;5;241m.\u001b[39mload(ap_russian_model_loc)\n\u001b[0;32m    106\u001b[0m \u001b[38;5;28;01melse\u001b[39;00m:\n\u001b[1;32m--> 107\u001b[0m     tagger \u001b[38;5;241m=\u001b[39m \u001b[43mPerceptronTagger\u001b[49m\u001b[43m(\u001b[49m\u001b[43m)\u001b[49m\n\u001b[0;32m    108\u001b[0m \u001b[38;5;28;01mreturn\u001b[39;00m tagger\n",
      "File \u001b[1;32mC:\\Projects\\spam-email-detection\\venv-spam-detection\\lib\\site-packages\\nltk\\tag\\perceptron.py:167\u001b[0m, in \u001b[0;36mPerceptronTagger.__init__\u001b[1;34m(self, load)\u001b[0m\n\u001b[0;32m    164\u001b[0m \u001b[38;5;28mself\u001b[39m\u001b[38;5;241m.\u001b[39mclasses \u001b[38;5;241m=\u001b[39m \u001b[38;5;28mset\u001b[39m()\n\u001b[0;32m    165\u001b[0m \u001b[38;5;28;01mif\u001b[39;00m load:\n\u001b[0;32m    166\u001b[0m     AP_MODEL_LOC \u001b[38;5;241m=\u001b[39m \u001b[38;5;124m\"\u001b[39m\u001b[38;5;124mfile:\u001b[39m\u001b[38;5;124m\"\u001b[39m \u001b[38;5;241m+\u001b[39m \u001b[38;5;28mstr\u001b[39m(\n\u001b[1;32m--> 167\u001b[0m         \u001b[43mfind\u001b[49m\u001b[43m(\u001b[49m\u001b[38;5;124;43m\"\u001b[39;49m\u001b[38;5;124;43mtaggers/averaged_perceptron_tagger/\u001b[39;49m\u001b[38;5;124;43m\"\u001b[39;49m\u001b[43m \u001b[49m\u001b[38;5;241;43m+\u001b[39;49m\u001b[43m \u001b[49m\u001b[43mPICKLE\u001b[49m\u001b[43m)\u001b[49m\n\u001b[0;32m    168\u001b[0m     )\n\u001b[0;32m    169\u001b[0m     \u001b[38;5;28mself\u001b[39m\u001b[38;5;241m.\u001b[39mload(AP_MODEL_LOC)\n",
      "File \u001b[1;32mC:\\Projects\\spam-email-detection\\venv-spam-detection\\lib\\site-packages\\nltk\\data.py:522\u001b[0m, in \u001b[0;36mfind\u001b[1;34m(resource_name, paths)\u001b[0m\n\u001b[0;32m    519\u001b[0m \u001b[38;5;66;03m# Check each item in our path\u001b[39;00m\n\u001b[0;32m    520\u001b[0m \u001b[38;5;28;01mfor\u001b[39;00m path_ \u001b[38;5;129;01min\u001b[39;00m paths:\n\u001b[0;32m    521\u001b[0m     \u001b[38;5;66;03m# Is the path item a zipfile?\u001b[39;00m\n\u001b[1;32m--> 522\u001b[0m     \u001b[38;5;28;01mif\u001b[39;00m path_ \u001b[38;5;129;01mand\u001b[39;00m (\u001b[43mos\u001b[49m\u001b[38;5;241;43m.\u001b[39;49m\u001b[43mpath\u001b[49m\u001b[38;5;241;43m.\u001b[39;49m\u001b[43misfile\u001b[49m\u001b[43m(\u001b[49m\u001b[43mpath_\u001b[49m\u001b[43m)\u001b[49m \u001b[38;5;129;01mand\u001b[39;00m path_\u001b[38;5;241m.\u001b[39mendswith(\u001b[38;5;124m\"\u001b[39m\u001b[38;5;124m.zip\u001b[39m\u001b[38;5;124m\"\u001b[39m)):\n\u001b[0;32m    523\u001b[0m         \u001b[38;5;28;01mtry\u001b[39;00m:\n\u001b[0;32m    524\u001b[0m             \u001b[38;5;28;01mreturn\u001b[39;00m ZipFilePathPointer(path_, resource_name)\n",
      "File \u001b[1;32m~\\AppData\\Local\\Programs\\Python\\Python39\\lib\\genericpath.py:30\u001b[0m, in \u001b[0;36misfile\u001b[1;34m(path)\u001b[0m\n\u001b[0;32m     28\u001b[0m \u001b[38;5;124;03m\"\"\"Test whether a path is a regular file\"\"\"\u001b[39;00m\n\u001b[0;32m     29\u001b[0m \u001b[38;5;28;01mtry\u001b[39;00m:\n\u001b[1;32m---> 30\u001b[0m     st \u001b[38;5;241m=\u001b[39m \u001b[43mos\u001b[49m\u001b[38;5;241;43m.\u001b[39;49m\u001b[43mstat\u001b[49m\u001b[43m(\u001b[49m\u001b[43mpath\u001b[49m\u001b[43m)\u001b[49m\n\u001b[0;32m     31\u001b[0m \u001b[38;5;28;01mexcept\u001b[39;00m (\u001b[38;5;167;01mOSError\u001b[39;00m, \u001b[38;5;167;01mValueError\u001b[39;00m):\n\u001b[0;32m     32\u001b[0m     \u001b[38;5;28;01mreturn\u001b[39;00m \u001b[38;5;28;01mFalse\u001b[39;00m\n",
      "\u001b[1;31mKeyboardInterrupt\u001b[0m: "
     ]
    }
   ],
   "source": [
    "emails_cleaned = clean_text(emails)"
   ]
  },
  {
   "cell_type": "code",
   "execution_count": null,
   "id": "c756da6d",
   "metadata": {},
   "outputs": [],
   "source": []
  },
  {
   "cell_type": "markdown",
   "id": "8694adce",
   "metadata": {},
   "source": [
    "### Feature Engineering"
   ]
  },
  {
   "cell_type": "code",
   "execution_count": 13,
   "id": "4cd9d66b",
   "metadata": {},
   "outputs": [],
   "source": [
    "from sklearn.feature_extraction.text import CountVectorizer"
   ]
  },
  {
   "cell_type": "code",
   "execution_count": 14,
   "id": "12c3f691",
   "metadata": {},
   "outputs": [],
   "source": [
    "vectorizer = CountVectorizer()"
   ]
  },
  {
   "cell_type": "code",
   "execution_count": 15,
   "id": "b70b110c",
   "metadata": {},
   "outputs": [],
   "source": [
    "counts = vectorizer.fit_transform(df['email'].values)"
   ]
  },
  {
   "cell_type": "code",
   "execution_count": 16,
   "id": "fbd826b4",
   "metadata": {},
   "outputs": [],
   "source": [
    "targets = df['class']"
   ]
  },
  {
   "cell_type": "code",
   "execution_count": 17,
   "id": "99687bd4",
   "metadata": {},
   "outputs": [],
   "source": [
    "from sklearn.model_selection import train_test_split"
   ]
  },
  {
   "cell_type": "code",
   "execution_count": 18,
   "id": "299f2ed8",
   "metadata": {},
   "outputs": [],
   "source": [
    "X_train, X_test, y_train, y_test = train_test_split(counts, targets, test_size=0.33, random_state=42)"
   ]
  },
  {
   "cell_type": "markdown",
   "id": "c8629b66",
   "metadata": {},
   "source": [
    "### Training the model"
   ]
  },
  {
   "cell_type": "code",
   "execution_count": 19,
   "id": "f08ef998",
   "metadata": {},
   "outputs": [],
   "source": [
    "from sklearn.naive_bayes import MultinomialNB"
   ]
  },
  {
   "cell_type": "code",
   "execution_count": 20,
   "id": "993000af",
   "metadata": {},
   "outputs": [],
   "source": [
    "model = MultinomialNB()"
   ]
  },
  {
   "cell_type": "code",
   "execution_count": 21,
   "id": "eb650095",
   "metadata": {},
   "outputs": [
    {
     "data": {
      "text/html": [
       "<style>#sk-container-id-1 {color: black;background-color: white;}#sk-container-id-1 pre{padding: 0;}#sk-container-id-1 div.sk-toggleable {background-color: white;}#sk-container-id-1 label.sk-toggleable__label {cursor: pointer;display: block;width: 100%;margin-bottom: 0;padding: 0.3em;box-sizing: border-box;text-align: center;}#sk-container-id-1 label.sk-toggleable__label-arrow:before {content: \"▸\";float: left;margin-right: 0.25em;color: #696969;}#sk-container-id-1 label.sk-toggleable__label-arrow:hover:before {color: black;}#sk-container-id-1 div.sk-estimator:hover label.sk-toggleable__label-arrow:before {color: black;}#sk-container-id-1 div.sk-toggleable__content {max-height: 0;max-width: 0;overflow: hidden;text-align: left;background-color: #f0f8ff;}#sk-container-id-1 div.sk-toggleable__content pre {margin: 0.2em;color: black;border-radius: 0.25em;background-color: #f0f8ff;}#sk-container-id-1 input.sk-toggleable__control:checked~div.sk-toggleable__content {max-height: 200px;max-width: 100%;overflow: auto;}#sk-container-id-1 input.sk-toggleable__control:checked~label.sk-toggleable__label-arrow:before {content: \"▾\";}#sk-container-id-1 div.sk-estimator input.sk-toggleable__control:checked~label.sk-toggleable__label {background-color: #d4ebff;}#sk-container-id-1 div.sk-label input.sk-toggleable__control:checked~label.sk-toggleable__label {background-color: #d4ebff;}#sk-container-id-1 input.sk-hidden--visually {border: 0;clip: rect(1px 1px 1px 1px);clip: rect(1px, 1px, 1px, 1px);height: 1px;margin: -1px;overflow: hidden;padding: 0;position: absolute;width: 1px;}#sk-container-id-1 div.sk-estimator {font-family: monospace;background-color: #f0f8ff;border: 1px dotted black;border-radius: 0.25em;box-sizing: border-box;margin-bottom: 0.5em;}#sk-container-id-1 div.sk-estimator:hover {background-color: #d4ebff;}#sk-container-id-1 div.sk-parallel-item::after {content: \"\";width: 100%;border-bottom: 1px solid gray;flex-grow: 1;}#sk-container-id-1 div.sk-label:hover label.sk-toggleable__label {background-color: #d4ebff;}#sk-container-id-1 div.sk-serial::before {content: \"\";position: absolute;border-left: 1px solid gray;box-sizing: border-box;top: 0;bottom: 0;left: 50%;z-index: 0;}#sk-container-id-1 div.sk-serial {display: flex;flex-direction: column;align-items: center;background-color: white;padding-right: 0.2em;padding-left: 0.2em;position: relative;}#sk-container-id-1 div.sk-item {position: relative;z-index: 1;}#sk-container-id-1 div.sk-parallel {display: flex;align-items: stretch;justify-content: center;background-color: white;position: relative;}#sk-container-id-1 div.sk-item::before, #sk-container-id-1 div.sk-parallel-item::before {content: \"\";position: absolute;border-left: 1px solid gray;box-sizing: border-box;top: 0;bottom: 0;left: 50%;z-index: -1;}#sk-container-id-1 div.sk-parallel-item {display: flex;flex-direction: column;z-index: 1;position: relative;background-color: white;}#sk-container-id-1 div.sk-parallel-item:first-child::after {align-self: flex-end;width: 50%;}#sk-container-id-1 div.sk-parallel-item:last-child::after {align-self: flex-start;width: 50%;}#sk-container-id-1 div.sk-parallel-item:only-child::after {width: 0;}#sk-container-id-1 div.sk-dashed-wrapped {border: 1px dashed gray;margin: 0 0.4em 0.5em 0.4em;box-sizing: border-box;padding-bottom: 0.4em;background-color: white;}#sk-container-id-1 div.sk-label label {font-family: monospace;font-weight: bold;display: inline-block;line-height: 1.2em;}#sk-container-id-1 div.sk-label-container {text-align: center;}#sk-container-id-1 div.sk-container {/* jupyter's `normalize.less` sets `[hidden] { display: none; }` but bootstrap.min.css set `[hidden] { display: none !important; }` so we also need the `!important` here to be able to override the default hidden behavior on the sphinx rendered scikit-learn.org. See: https://github.com/scikit-learn/scikit-learn/issues/21755 */display: inline-block !important;position: relative;}#sk-container-id-1 div.sk-text-repr-fallback {display: none;}</style><div id=\"sk-container-id-1\" class=\"sk-top-container\"><div class=\"sk-text-repr-fallback\"><pre>MultinomialNB()</pre><b>In a Jupyter environment, please rerun this cell to show the HTML representation or trust the notebook. <br />On GitHub, the HTML representation is unable to render, please try loading this page with nbviewer.org.</b></div><div class=\"sk-container\" hidden><div class=\"sk-item\"><div class=\"sk-estimator sk-toggleable\"><input class=\"sk-toggleable__control sk-hidden--visually\" id=\"sk-estimator-id-1\" type=\"checkbox\" checked><label for=\"sk-estimator-id-1\" class=\"sk-toggleable__label sk-toggleable__label-arrow\">MultinomialNB</label><div class=\"sk-toggleable__content\"><pre>MultinomialNB()</pre></div></div></div></div></div>"
      ],
      "text/plain": [
       "MultinomialNB()"
      ]
     },
     "execution_count": 21,
     "metadata": {},
     "output_type": "execute_result"
    }
   ],
   "source": [
    "model.fit(X_train, y_train)"
   ]
  },
  {
   "cell_type": "code",
   "execution_count": 22,
   "id": "f6f13f87",
   "metadata": {},
   "outputs": [],
   "source": [
    "from sklearn.metrics import accuracy_score"
   ]
  },
  {
   "cell_type": "code",
   "execution_count": 23,
   "id": "aa12f3ac",
   "metadata": {},
   "outputs": [],
   "source": [
    "y_predict = model.predict(X_test)"
   ]
  },
  {
   "cell_type": "markdown",
   "id": "0f6eb163",
   "metadata": {},
   "source": [
    "### Testing the model"
   ]
  },
  {
   "cell_type": "code",
   "execution_count": 24,
   "id": "2b2ab464",
   "metadata": {},
   "outputs": [
    {
     "name": "stdout",
     "output_type": "stream",
     "text": [
      "0.9875534088798068\n"
     ]
    }
   ],
   "source": [
    "accuracy = accuracy_score(y_test, y_predict)\n",
    "print(accuracy)"
   ]
  },
  {
   "cell_type": "code",
   "execution_count": 25,
   "id": "87afc694",
   "metadata": {},
   "outputs": [],
   "source": [
    "examples = ['''\n",
    "We were unable to deliver your parcel as there was no one present to sign for the deliveryWe are here to inform you that we need an adress confirmation to reconfirm the parcel shipping.\n",
    "''']"
   ]
  },
  {
   "cell_type": "code",
   "execution_count": 26,
   "id": "421071d7",
   "metadata": {},
   "outputs": [],
   "source": [
    "example_counts = vectorizer.transform(examples)"
   ]
  },
  {
   "cell_type": "code",
   "execution_count": 34,
   "id": "d991c8c9",
   "metadata": {},
   "outputs": [],
   "source": [
    "predictions = model.predict(example_counts)\n",
    "print(predictions)"
   ]
  },
  {
   "cell_type": "markdown",
   "id": "f8accfe1",
   "metadata": {},
   "source": [
    "### Saving the model"
   ]
  },
  {
   "cell_type": "code",
   "execution_count": 28,
   "id": "dda34a38",
   "metadata": {},
   "outputs": [],
   "source": [
    "from joblib import dump, load"
   ]
  },
  {
   "cell_type": "code",
   "execution_count": 29,
   "id": "ce9bba29",
   "metadata": {},
   "outputs": [
    {
     "data": {
      "text/plain": [
       "['app/static/model.joblib']"
      ]
     },
     "execution_count": 29,
     "metadata": {},
     "output_type": "execute_result"
    }
   ],
   "source": [
    "dump((model, vectorizer), 'app/static/model.joblib')"
   ]
  }
 ],
 "metadata": {
  "kernelspec": {
   "display_name": "venv-spam-detection",
   "language": "python",
   "name": "venv-spam-detection"
  },
  "language_info": {
   "codemirror_mode": {
    "name": "ipython",
    "version": 3
   },
   "file_extension": ".py",
   "mimetype": "text/x-python",
   "name": "python",
   "nbconvert_exporter": "python",
   "pygments_lexer": "ipython3",
   "version": "3.9.10"
  }
 },
 "nbformat": 4,
 "nbformat_minor": 5
}
